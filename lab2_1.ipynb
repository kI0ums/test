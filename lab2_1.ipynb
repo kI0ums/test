{
 "cells": [
  {
   "cell_type": "markdown",
   "source": [
    "## <center>Підготовка та аналіз даних</center>\n",
    "## <center>Лабораторна робота №2</center>\n",
    "<br>\n",
    "<center>ФБ-22 Дажук Павло</center>\n",
    "\n",
    "#### Хід виконання"
   ],
   "metadata": {
    "collapsed": false
   },
   "id": "f4a3e387f7b21c29"
  },
  {
   "cell_type": "code",
   "outputs": [
    {
     "name": "stdout",
     "output_type": "stream",
     "text": [
      "Setup Complete\n"
     ]
    }
   ],
   "source": [
    "import os\n",
    "import pandas as pd\n",
    "import urllib\n",
    "from datetime import datetime\n",
    "import re\n",
    "print(\"Setup Complete\")"
   ],
   "metadata": {
    "collapsed": false,
    "ExecuteTime": {
     "end_time": "2024-03-11T08:37:57.874050500Z",
     "start_time": "2024-03-11T08:37:57.851538500Z"
    }
   },
   "id": "bd721b6e1a86264",
   "execution_count": 482
  },
  {
   "cell_type": "code",
   "outputs": [],
   "source": [
    "def download_csv():\n",
    "    regions = {}\n",
    "    ranges = [(1, 12), (13, 20), (21, 28)]\n",
    "    ids = {1: 22, 2: 24, 3: 23, 4: 25, 5: 3, 6: 4, 7: 8, 8: 19, 9: 20, 10: 21, 11: 9, 13: 10, 14: 11, 15: 12, 16: 13, 17: 14, 18: 15, 19: 16, 21: 17, 22: 18, 23: 6, 24: 1, 25: 2, 26: 7, 27: 5}\n",
    "    id = 0\n",
    "    \n",
    "    for start, end in ranges:\n",
    "        for i in range(start, end):\n",
    "            id = ids[i]\n",
    "            url='https://www.star.nesdis.noaa.gov/smcd/emb/vci/VH/get_TS_admin.php?country=UKR&provinceID={}&year1=1981&year2=2020&type=Mean'.format(i)\n",
    "            wp = urllib.request.urlopen(url)\n",
    "            text = wp.read()\n",
    "            \n",
    "            text = text.replace(b\"<br>\", b\"\")\n",
    "            text = text.replace(b\"<tt><pre>\", b\"\")\n",
    "            text = text.replace(b\"</pre></tt>\", b\"\")\n",
    "            \n",
    "            match = re.search(br':\\s*([^\\s,]+)', text)\n",
    "            regions[id] = match.group(1).decode('utf-8')\n",
    "        \n",
    "            now = datetime.now()\n",
    "            date_and_time_time = now.strftime(\"%d-%m-%Y_%H-%M-%S\")\n",
    "            out=open(f'data\\\\obl_{id}_{date_and_time_time}.csv', 'wb')\n",
    "            out.write(text)\n",
    "            out.close()\n",
    "            print (f\"{regions[id]}: {id}, \", end=\"\")\n",
    "    return regions"
   ],
   "metadata": {
    "collapsed": false,
    "ExecuteTime": {
     "end_time": "2024-03-11T08:37:57.895882900Z",
     "start_time": "2024-03-11T08:37:57.878036300Z"
    }
   },
   "id": "a38f40ff62495b7d",
   "execution_count": 483
  },
  {
   "cell_type": "code",
   "outputs": [
    {
     "name": "stdout",
     "output_type": "stream",
     "text": [
      "Cherkasy: 22, Chernihiv: 24, Chernivtsi: 23, Crimea: 25, Dnipropetrovs'k: 3, Donets'k: 4, Ivano-Frankivs'k: 8, Kharkiv: 19, Kherson: 20, Khmel'nyts'kyy: 21, Kiev: 9, Kirovohrad: 10, Luhans'k: 11, L'viv: 12, Mykolayiv: 13, Odessa: 14, Poltava: 15, Rivne: 16, Sumy: 17, Ternopil': 18, Transcarpathia: 6, Vinnytsya: 1, Volyn: 2, Zaporizhzhya: 7, Zhytomyr: 5, "
     ]
    }
   ],
   "source": [
    "regions = download_csv()"
   ],
   "metadata": {
    "collapsed": false,
    "ExecuteTime": {
     "end_time": "2024-03-11T08:38:18.617868200Z",
     "start_time": "2024-03-11T08:37:57.897874900Z"
    }
   },
   "id": "e627b539a3c36544",
   "execution_count": 484
  },
  {
   "cell_type": "code",
   "outputs": [],
   "source": [
    "def handling_values(folder_path):\n",
    "    dfs = []\n",
    "    headers = ['Year', 'Week', 'SMN', 'SMT', 'VCI', 'TCI', 'VHI', 'Region_ID']\n",
    "    \n",
    "    file_list = os.listdir(folder_path)\n",
    "    \n",
    "    for file_name in file_list:\n",
    "        file_path = os.path.join(folder_path, file_name)\n",
    "        df = pd.read_csv(file_path, header=1, names=headers)\n",
    "        df = df.drop(df.loc[df['VHI'] == -1].index)\n",
    "        region_id = re.search(r'_(\\d+)_', file_name).group(1)\n",
    "        df['Region_ID'] = int(region_id)\n",
    "        dfs.append(df)\n",
    "    return pd.concat(dfs, ignore_index=True)"
   ],
   "metadata": {
    "collapsed": false,
    "ExecuteTime": {
     "end_time": "2024-03-11T08:38:18.618866600Z",
     "start_time": "2024-03-11T08:38:18.610689500Z"
    }
   },
   "id": "580dfd8a54ce1386",
   "execution_count": 485
  },
  {
   "cell_type": "code",
   "outputs": [],
   "source": [
    "df = handling_values('data')\n",
    "df.to_csv('df.csv')"
   ],
   "metadata": {
    "collapsed": false,
    "ExecuteTime": {
     "end_time": "2024-03-11T08:38:18.912832600Z",
     "start_time": "2024-03-11T08:38:18.613864Z"
    }
   },
   "id": "57b495dcb5cf7af8",
   "execution_count": 486
  },
  {
   "cell_type": "code",
   "outputs": [],
   "source": [
    "def analyze_vhi_for_year(df, regions, region, year):\n",
    "    vhi_series = df[(df['Year'] == year) & (df['Region_ID'] == region)]['VHI']\n",
    "    min_vhi = vhi_series.min()\n",
    "    max_vhi = vhi_series.max()\n",
    "    \n",
    "    print(f\"{regions[region]} in {year}:\")\n",
    "    print(f\"Min VHI: {min_vhi}\")\n",
    "    print(f\"Max VHI: {max_vhi}\")\n"
   ],
   "metadata": {
    "collapsed": false,
    "ExecuteTime": {
     "end_time": "2024-03-11T08:38:18.925369800Z",
     "start_time": "2024-03-11T08:38:18.915670600Z"
    }
   },
   "id": "2846d0a7ec5f447",
   "execution_count": 487
  },
  {
   "cell_type": "code",
   "outputs": [
    {
     "name": "stdout",
     "output_type": "stream",
     "text": [
      "Volyn in 2000:\n",
      "Min VHI: 24.65\n",
      "Max VHI: 68.85\n"
     ]
    }
   ],
   "source": [
    "analyze_vhi_for_year(df, regions, 2, 2000)"
   ],
   "metadata": {
    "collapsed": false,
    "ExecuteTime": {
     "end_time": "2024-03-11T08:38:18.925369800Z",
     "start_time": "2024-03-11T08:38:18.917171100Z"
    }
   },
   "id": "702d929a9e5c044d",
   "execution_count": 488
  },
  {
   "cell_type": "code",
   "outputs": [],
   "source": [
    "def analyze_vhi_for_years_and_regions(df, regions, start_year, end_year, selected_regions):\n",
    "    for region in selected_regions:\n",
    "        print(f\"Region: {regions[region]}\")\n",
    "        for year in range(start_year, end_year + 1):\n",
    "            vhi_series = df[(df['Year'] == year) & (df['Region_ID'] == region)]['VHI']\n",
    "            avg_vhi = vhi_series.mean()\n",
    "            print(f\"Year: {year}, Average VHI: {round(avg_vhi, 2)}\")\n",
    "        print(\"=\" * 30)\n"
   ],
   "metadata": {
    "collapsed": false,
    "ExecuteTime": {
     "end_time": "2024-03-11T08:38:18.939234600Z",
     "start_time": "2024-03-11T08:38:18.926366900Z"
    }
   },
   "id": "cdc72c0a34545035",
   "execution_count": 489
  },
  {
   "cell_type": "code",
   "outputs": [
    {
     "name": "stdout",
     "output_type": "stream",
     "text": [
      "Region: Vinnytsya\n",
      "Year: 2000, Average VHI: 40.98\n",
      "Year: 2001, Average VHI: 54.1\n",
      "Year: 2002, Average VHI: 52.82\n",
      "Year: 2003, Average VHI: 48.81\n",
      "==============================\n",
      "Region: Volyn\n",
      "Year: 2000, Average VHI: 50.06\n",
      "Year: 2001, Average VHI: 57.97\n",
      "Year: 2002, Average VHI: 51.17\n",
      "Year: 2003, Average VHI: 51.32\n",
      "==============================\n",
      "Region: Dnipropetrovs'k\n",
      "Year: 2000, Average VHI: 44.0\n",
      "Year: 2001, Average VHI: 53.28\n",
      "Year: 2002, Average VHI: 50.95\n",
      "Year: 2003, Average VHI: 53.64\n",
      "==============================\n"
     ]
    }
   ],
   "source": [
    "analyze_vhi_for_years_and_regions(df, regions, 2000, 2003, [1, 2, 3])"
   ],
   "metadata": {
    "collapsed": false,
    "ExecuteTime": {
     "end_time": "2024-03-11T08:38:18.960425Z",
     "start_time": "2024-03-11T08:38:18.929518100Z"
    }
   },
   "id": "a1ded7d847621933",
   "execution_count": 490
  },
  {
   "cell_type": "code",
   "outputs": [],
   "source": [
    "# Роки, протягом яких екстремальні посухи торкнулися більше вказаного відсотка областей\n",
    "def find_extreme_drought_years(df, regions, percentage):\n",
    "    total_regions = len(regions)\n",
    "    affected_years = []\n",
    "\n",
    "    for year in range(1982, 2021):\n",
    "        affected_regions = 0\n",
    "\n",
    "        for region in range(1, total_regions + 1):\n",
    "            min_vhi = df[(df['Year'] == year) & (df['Region_ID'] == region)]['VHI'].min()\n",
    "\n",
    "            if min_vhi < 15:\n",
    "                affected_regions += 1\n",
    "\n",
    "        if affected_regions/total_regions > percentage / 100: \n",
    "            affected_years.append(year)\n",
    "    \n",
    "    print(f\"Years with extreme drought in more than {percentage}% of regions: {affected_years}\")\n"
   ],
   "metadata": {
    "collapsed": false,
    "ExecuteTime": {
     "end_time": "2024-03-11T08:38:18.961421700Z",
     "start_time": "2024-03-11T08:38:18.942978500Z"
    }
   },
   "id": "326398d2022e78e9",
   "execution_count": 491
  },
  {
   "cell_type": "code",
   "outputs": [
    {
     "name": "stdout",
     "output_type": "stream",
     "text": [
      "Years with extreme drought in more than 5% of regions: [1986, 1993, 2000, 2007]\n"
     ]
    }
   ],
   "source": [
    "find_extreme_drought_years(df, regions, 5)"
   ],
   "metadata": {
    "collapsed": false,
    "ExecuteTime": {
     "end_time": "2024-03-11T08:38:19.308766600Z",
     "start_time": "2024-03-11T08:38:18.946472Z"
    }
   },
   "id": "e30c0828e86878f7",
   "execution_count": 492
  },
  {
   "cell_type": "code",
   "outputs": [],
   "source": [
    "def find_moderate_drought_years(df, regions, percentage):\n",
    "    total_regions = len(regions)\n",
    "    affected_years = []\n",
    "\n",
    "    for year in range(1982, 2021):\n",
    "        affected_regions = 0\n",
    "\n",
    "        for region in range(1, total_regions + 1):\n",
    "            vhi = df[(df['Year'] == year) & (df['Region_ID'] == region) & (df['VHI'] >= 15)]['VHI'].min()\n",
    "\n",
    "            if vhi < 35:\n",
    "                affected_regions += 1\n",
    "\n",
    "        if affected_regions/total_regions > percentage / 100: \n",
    "            affected_years.append(year)\n",
    "    \n",
    "    print(f\"Years with moderate drought in more than {percentage}% of regions: {affected_years}\")\n"
   ],
   "metadata": {
    "collapsed": false,
    "ExecuteTime": {
     "end_time": "2024-03-11T08:38:19.309763300Z",
     "start_time": "2024-03-11T08:38:19.303780700Z"
    }
   },
   "id": "60896e2d3b1f7528",
   "execution_count": 493
  },
  {
   "cell_type": "code",
   "outputs": [
    {
     "name": "stdout",
     "output_type": "stream",
     "text": [
      "Years with moderate drought in more than 80% of regions: [1982, 1983, 1984, 1985, 1986, 1988, 1989, 1990, 1991, 1992, 1993, 1995, 1996, 2000, 2015, 2019]\n"
     ]
    }
   ],
   "source": [
    "find_moderate_drought_years(df, regions, 80)"
   ],
   "metadata": {
    "collapsed": false,
    "ExecuteTime": {
     "end_time": "2024-03-11T08:38:19.770088400Z",
     "start_time": "2024-03-11T08:38:19.305777Z"
    }
   },
   "id": "f120b42592bb7490",
   "execution_count": 494
  },
  {
   "cell_type": "code",
   "outputs": [],
   "source": [],
   "metadata": {
    "collapsed": false,
    "ExecuteTime": {
     "end_time": "2024-03-11T08:38:19.770088400Z",
     "start_time": "2024-03-11T08:38:19.753559400Z"
    }
   },
   "id": "3b1aedd3d2ff746",
   "execution_count": 494
  }
 ],
 "metadata": {
  "kernelspec": {
   "display_name": "Python 3",
   "language": "python",
   "name": "python3"
  },
  "language_info": {
   "codemirror_mode": {
    "name": "ipython",
    "version": 2
   },
   "file_extension": ".py",
   "mimetype": "text/x-python",
   "name": "python",
   "nbconvert_exporter": "python",
   "pygments_lexer": "ipython2",
   "version": "2.7.6"
  }
 },
 "nbformat": 4,
 "nbformat_minor": 5
}
